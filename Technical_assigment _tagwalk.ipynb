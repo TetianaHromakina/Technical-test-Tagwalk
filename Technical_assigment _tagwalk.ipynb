{
 "cells": [
  {
   "cell_type": "markdown",
   "id": "c5310c32",
   "metadata": {},
   "source": [
    "# Technical test for Tagwalk"
   ]
  },
  {
   "cell_type": "markdown",
   "id": "92158dde",
   "metadata": {},
   "source": [
    "Before answering the questions let's look at the dataset."
   ]
  },
  {
   "cell_type": "code",
   "execution_count": 1,
   "id": "8463a760",
   "metadata": {},
   "outputs": [],
   "source": [
    "import pandas as pd\n",
    "import numpy as np"
   ]
  },
  {
   "cell_type": "code",
   "execution_count": 2,
   "id": "16bcae92",
   "metadata": {},
   "outputs": [
    {
     "name": "stdout",
     "output_type": "stream",
     "text": [
      "    slug  look   type              season         designer    city  \\\n",
      "0  20261     8  woman  spring-summer-2017         roksanda  london   \n",
      "1  20262     9  woman  spring-summer-2017         roksanda  london   \n",
      "2  20263    10  woman  spring-summer-2017         roksanda  london   \n",
      "3  20264    11  woman  spring-summer-2017         roksanda  london   \n",
      "4  20265    12  woman  spring-summer-2017         roksanda  london   \n",
      "5  20255     1  woman  spring-summer-2017         roksanda  london   \n",
      "6  19778     2  woman  spring-summer-2017  mother-of-pearl  london   \n",
      "\n",
      "            models                                           keywords  \n",
      "0              NaN  ['dress', 'silk', 'purple', 'balloon-sleeves',...  \n",
      "1              NaN  ['dress', 'long-dress', 'pleats', 'silk', 'sat...  \n",
      "2              NaN  ['dress', 'midi-dress', 'print', 'sleeveless',...  \n",
      "3              NaN  ['dress', 'midi-dress', 'silk', 'satin', 'v-ne...  \n",
      "4              NaN  ['coat', 'silk', 'satin', 'gold', 'elastic', '...  \n",
      "5  ['karly-loyce']  ['coat', 'top', 'silk', 'pants', 'pink-pants',...  \n",
      "6              NaN  ['dress', 'pearls', 'doll', 'circus', 'pleats'...  \n"
     ]
    }
   ],
   "source": [
    "# Loading the dataset and printing the first few lines\n",
    "data = pd.read_csv('Dataset.csv')\n",
    "print(data.head(7))"
   ]
  },
  {
   "cell_type": "markdown",
   "id": "a1055a09",
   "metadata": {},
   "source": [
    "### Question 1\n",
    "Calculate the total number of looks by [type, season] and by [type, season, designer]."
   ]
  },
  {
   "cell_type": "code",
   "execution_count": 3,
   "id": "5c3c089b",
   "metadata": {},
   "outputs": [
    {
     "name": "stdout",
     "output_type": "stream",
     "text": [
      "Unique types: 1 ['woman']\n",
      " \n",
      "Unique seasons: 2 ['spring-summer-2017' 'spring-summer-2018']\n",
      " \n",
      "Unique designers: 59 ['roksanda' 'mother-of-pearl' 'versus-versace' 'anya-hindmarch' 'topshop'\n",
      " 'jw-anderson' 'simone-rocha' 'christopher-kane' 'david-koma'\n",
      " 'house-of-holland' 'gareth-pugh' 'emilia-wickstead' 'joseph' 'erdem'\n",
      " 'mary-katrantzou' 'peter-pilotto' 'paul-smith' 'teatum-jones' 'bora-aksu'\n",
      " 'fashion-east' 'temperley-london' 'jasper-conran' 'fyodor-golan'\n",
      " 'marta-jakubowski' 'julien-macdonald' 'toga' 'rejina-pyo'\n",
      " 'ashley-williams' 'emporio-armani' 'ashish' 'burberry' 'antonio-berardi'\n",
      " 'eudon-choi-1' 'ryan-lo' 'marques-almeida' 'pringle-of-scotland'\n",
      " 'ports-1961' 'molly-goddard' 'chalayan' 'paula-knorr' 'roland-mouret'\n",
      " 'sharon-wauchob' 'richard-malone' 'halpern' 'daks' 'nicopanda' 'lunyee'\n",
      " 'emilio-de-la-morena' 'margaret-howell' 'palmer-harding' 'mulberry'\n",
      " 'a-w-a-k-e-mode' 'cividini' 'pam-hogg' 'mila-schon'\n",
      " 'preen-by-thornton-bregazzi' 'barbara-casasola' 'osman' 'natasha-zinko']\n"
     ]
    }
   ],
   "source": [
    "# Finding the number of unique entries for the 'type', 'season', and 'designer' columns\n",
    "\n",
    "print('Unique types:', data['type'].nunique(), data['type'].unique()), print(' ')\n",
    "print('Unique seasons:', data['season'].nunique(), data['season'].unique()), print(' ')\n",
    "print('Unique designers:', data['designer'].nunique(), data['designer'].unique())"
   ]
  },
  {
   "cell_type": "code",
   "execution_count": 4,
   "id": "448986eb",
   "metadata": {},
   "outputs": [
    {
     "name": "stdout",
     "output_type": "stream",
     "text": [
      "season\n",
      "spring-summer-2017    1315\n",
      "spring-summer-2018    2044\n",
      "Name: number of looks, dtype: int64\n"
     ]
    }
   ],
   "source": [
    "# Total number of looks by [type, season]. \n",
    "#(As 'type' has only one unique value, no need for additional grouping for this column)\n",
    "\n",
    "data['number of looks'] = 1  # Addind a column\n",
    "looks_season = data.groupby(['season']).count()['number of looks']\n",
    "print(looks_season)"
   ]
  },
  {
   "cell_type": "code",
   "execution_count": 5,
   "id": "ac65dfde",
   "metadata": {},
   "outputs": [],
   "source": [
    "# Saving results from above as a .csv file\n",
    "looks_season.to_csv('num_looks_season.csv', index=True)"
   ]
  },
  {
   "cell_type": "code",
   "execution_count": 6,
   "id": "e47da022",
   "metadata": {},
   "outputs": [
    {
     "name": "stdout",
     "output_type": "stream",
     "text": [
      "season              designer        \n",
      "spring-summer-2017  antonio-berardi     43\n",
      "                    anya-hindmarch      40\n",
      "                    ashish              33\n",
      "                    barbara-casasola    29\n",
      "                    bora-aksu           29\n",
      "                                        ..\n",
      "spring-summer-2018  simone-rocha        40\n",
      "                    teatum-jones        29\n",
      "                    temperley-london    38\n",
      "                    toga                40\n",
      "                    versus-versace      49\n",
      "Name: number of looks, Length: 89, dtype: int64\n"
     ]
    }
   ],
   "source": [
    "# Total number of looks by [type, season, designer]. \n",
    "\n",
    "looks_season_designer = data.groupby(['season','designer']).count()['number of looks']\n",
    "print(looks_season_designer)"
   ]
  },
  {
   "cell_type": "code",
   "execution_count": 7,
   "id": "ffac11ee",
   "metadata": {},
   "outputs": [],
   "source": [
    "# Saving results from above to a .csv file\n",
    "looks_season_designer.to_csv('num_looks_season_designer.csv', index=True)"
   ]
  },
  {
   "cell_type": "code",
   "execution_count": 8,
   "id": "17cc7efe",
   "metadata": {},
   "outputs": [
    {
     "data": {
      "text/html": [
       "<div>\n",
       "<style scoped>\n",
       "    .dataframe tbody tr th:only-of-type {\n",
       "        vertical-align: middle;\n",
       "    }\n",
       "\n",
       "    .dataframe tbody tr th {\n",
       "        vertical-align: top;\n",
       "    }\n",
       "\n",
       "    .dataframe thead th {\n",
       "        text-align: right;\n",
       "    }\n",
       "</style>\n",
       "<table border=\"1\" class=\"dataframe\">\n",
       "  <thead>\n",
       "    <tr style=\"text-align: right;\">\n",
       "      <th>season</th>\n",
       "      <th>spring-summer-2017</th>\n",
       "      <th>spring-summer-2018</th>\n",
       "    </tr>\n",
       "    <tr>\n",
       "      <th>designer</th>\n",
       "      <th></th>\n",
       "      <th></th>\n",
       "    </tr>\n",
       "  </thead>\n",
       "  <tbody>\n",
       "    <tr>\n",
       "      <th>a-w-a-k-e-mode</th>\n",
       "      <td>0.0</td>\n",
       "      <td>57.0</td>\n",
       "    </tr>\n",
       "    <tr>\n",
       "      <th>antonio-berardi</th>\n",
       "      <td>43.0</td>\n",
       "      <td>43.0</td>\n",
       "    </tr>\n",
       "    <tr>\n",
       "      <th>anya-hindmarch</th>\n",
       "      <td>40.0</td>\n",
       "      <td>40.0</td>\n",
       "    </tr>\n",
       "    <tr>\n",
       "      <th>ashish</th>\n",
       "      <td>33.0</td>\n",
       "      <td>38.0</td>\n",
       "    </tr>\n",
       "    <tr>\n",
       "      <th>ashley-williams</th>\n",
       "      <td>0.0</td>\n",
       "      <td>27.0</td>\n",
       "    </tr>\n",
       "    <tr>\n",
       "      <th>barbara-casasola</th>\n",
       "      <td>29.0</td>\n",
       "      <td>0.0</td>\n",
       "    </tr>\n",
       "    <tr>\n",
       "      <th>bora-aksu</th>\n",
       "      <td>29.0</td>\n",
       "      <td>37.0</td>\n",
       "    </tr>\n",
       "    <tr>\n",
       "      <th>burberry</th>\n",
       "      <td>78.0</td>\n",
       "      <td>84.0</td>\n",
       "    </tr>\n",
       "    <tr>\n",
       "      <th>chalayan</th>\n",
       "      <td>0.0</td>\n",
       "      <td>45.0</td>\n",
       "    </tr>\n",
       "    <tr>\n",
       "      <th>christopher-kane</th>\n",
       "      <td>38.0</td>\n",
       "      <td>47.0</td>\n",
       "    </tr>\n",
       "  </tbody>\n",
       "</table>\n",
       "</div>"
      ],
      "text/plain": [
       "season            spring-summer-2017  spring-summer-2018\n",
       "designer                                                \n",
       "a-w-a-k-e-mode                   0.0                57.0\n",
       "antonio-berardi                 43.0                43.0\n",
       "anya-hindmarch                  40.0                40.0\n",
       "ashish                          33.0                38.0\n",
       "ashley-williams                  0.0                27.0\n",
       "barbara-casasola                29.0                 0.0\n",
       "bora-aksu                       29.0                37.0\n",
       "burberry                        78.0                84.0\n",
       "chalayan                         0.0                45.0\n",
       "christopher-kane                38.0                47.0"
      ]
     },
     "execution_count": 8,
     "metadata": {},
     "output_type": "execute_result"
    }
   ],
   "source": [
    "# To better compare the number of looks by each designer per season let's pivot the season column.\n",
    "# (NaN replaced by zeros)\n",
    "\n",
    "looks_season_designer_pivot = data.groupby(['designer', 'season']).count().unstack()['number of looks'].fillna(0)\n",
    "looks_season_designer_pivot.head(10)"
   ]
  },
  {
   "cell_type": "code",
   "execution_count": 9,
   "id": "9a73013a",
   "metadata": {},
   "outputs": [],
   "source": [
    "# Saving results from above to a .csv file\n",
    "looks_season_designer_pivot.to_csv('num_looks_season_designer_pivot.csv', index=True)"
   ]
  },
  {
   "cell_type": "markdown",
   "id": "40caac52",
   "metadata": {},
   "source": [
    "### Question 2\n",
    "Calculate the percentage of presence for each tag by type and season, and rank them in descending order."
   ]
  },
  {
   "cell_type": "code",
   "execution_count": 10,
   "id": "fe4741f7",
   "metadata": {},
   "outputs": [],
   "source": [
    "# First, let's convert every rows of the 'keyword' colums from string to list and add every tag into one list\n",
    "\n",
    "all_tags = []\n",
    "for i in data['keywords']:\n",
    "    list_i = eval(i)\n",
    "    for j in list_i:\n",
    "        all_tags.append(j)"
   ]
  },
  {
   "cell_type": "code",
   "execution_count": 11,
   "id": "23aac791",
   "metadata": {},
   "outputs": [
    {
     "name": "stdout",
     "output_type": "stream",
     "text": [
      "993 unique tags found in the dataset\n"
     ]
    }
   ],
   "source": [
    "# Now we can find all the unique tags\n",
    "\n",
    "unique_tags = []\n",
    "for i in all_tags:\n",
    "    if i not in unique_tags:\n",
    "        unique_tags.append(i)\n",
    "\n",
    "print(len(unique_tags), 'unique tags found in the dataset')"
   ]
  },
  {
   "cell_type": "code",
   "execution_count": 12,
   "id": "22878bac",
   "metadata": {},
   "outputs": [],
   "source": [
    "# Counting the persentage of presence for each tag in 2017 and 2018 as well as for the whole dataset\n",
    "\n",
    "data2017 = data[data['season'] == 'spring-summer-2017']\n",
    "data2018 = data[data['season'] == 'spring-summer-2018']\n",
    "\n",
    "lines_num = len(data['keywords'])\n",
    "tag_cnt = []\n",
    "tag_cnt_2017 = []\n",
    "tag_cnt_2018 = []\n",
    "for j in range(len(unique_tags)):\n",
    "    tag_cnt.append(unique_tags[j]+ ' ' + str(round(len(data.loc[data['keywords'].str.contains(unique_tags[j])]['keywords'])/lines_num*100,2))  )\n",
    "    cnt_2017 = len(data2017.loc[data2017['keywords'].str.contains(unique_tags[j])]['keywords'])/len(data2017)*100\n",
    "    cnt_2018 = len(data2018.loc[data2018['keywords'].str.contains(unique_tags[j])]['keywords'])/len(data2018)*100\n",
    "    tag_cnt_2017.append(unique_tags[j]+ ' ' + str(round(cnt_2017,2)))\n",
    "    tag_cnt_2018.append(unique_tags[j]+ ' ' + str(round(cnt_2018,2)))"
   ]
  },
  {
   "cell_type": "code",
   "execution_count": 13,
   "id": "cd86496b",
   "metadata": {},
   "outputs": [],
   "source": [
    "# Splitting the tag from the corresponding persentage\n",
    "\n",
    "def TagSplit(tag):\n",
    "    tag_split = []\n",
    "    for i in tag:\n",
    "        i.split()\n",
    "        tag_split.append(i.split())\n",
    "    return tag_split\n",
    "\n",
    "tag_cnt_split = TagSplit(tag_cnt)\n",
    "tag_cnt_2017_split = TagSplit(tag_cnt_2017)\n",
    "tag_cnt_2018_split = TagSplit(tag_cnt_2018)"
   ]
  },
  {
   "cell_type": "code",
   "execution_count": 14,
   "id": "f88e69b0",
   "metadata": {},
   "outputs": [],
   "source": [
    "# Sorting the tags in descending order\n",
    "\n",
    "def Sort(tag):\n",
    "    tag.sort(reverse=True, key = lambda x: float(x[1]))\n",
    "    return tag\n",
    "\n",
    "tag_cnt_split_ranked = Sort(tag_cnt_split)"
   ]
  },
  {
   "cell_type": "code",
   "execution_count": 15,
   "id": "5dcd281b",
   "metadata": {},
   "outputs": [
    {
     "data": {
      "text/html": [
       "<div>\n",
       "<style scoped>\n",
       "    .dataframe tbody tr th:only-of-type {\n",
       "        vertical-align: middle;\n",
       "    }\n",
       "\n",
       "    .dataframe tbody tr th {\n",
       "        vertical-align: top;\n",
       "    }\n",
       "\n",
       "    .dataframe thead th {\n",
       "        text-align: right;\n",
       "    }\n",
       "</style>\n",
       "<table border=\"1\" class=\"dataframe\">\n",
       "  <thead>\n",
       "    <tr style=\"text-align: right;\">\n",
       "      <th></th>\n",
       "      <th>tag</th>\n",
       "      <th>total pct of presence</th>\n",
       "      <th>pct of presence in 2017</th>\n",
       "      <th>pct of presence in 2018</th>\n",
       "    </tr>\n",
       "  </thead>\n",
       "  <tbody>\n",
       "    <tr>\n",
       "      <th>0</th>\n",
       "      <td>dress</td>\n",
       "      <td>48.82</td>\n",
       "      <td>51.48</td>\n",
       "      <td>47.11</td>\n",
       "    </tr>\n",
       "    <tr>\n",
       "      <th>1</th>\n",
       "      <td>black</td>\n",
       "      <td>28.28</td>\n",
       "      <td>25.78</td>\n",
       "      <td>29.89</td>\n",
       "    </tr>\n",
       "    <tr>\n",
       "      <th>2</th>\n",
       "      <td>white</td>\n",
       "      <td>27.09</td>\n",
       "      <td>23.04</td>\n",
       "      <td>29.70</td>\n",
       "    </tr>\n",
       "    <tr>\n",
       "      <th>3</th>\n",
       "      <td>pants</td>\n",
       "      <td>26.59</td>\n",
       "      <td>24.26</td>\n",
       "      <td>28.08</td>\n",
       "    </tr>\n",
       "    <tr>\n",
       "      <th>4</th>\n",
       "      <td>midi</td>\n",
       "      <td>22.54</td>\n",
       "      <td>25.25</td>\n",
       "      <td>20.79</td>\n",
       "    </tr>\n",
       "  </tbody>\n",
       "</table>\n",
       "</div>"
      ],
      "text/plain": [
       "     tag  total pct of presence  pct of presence in 2017  \\\n",
       "0  dress                  48.82                    51.48   \n",
       "1  black                  28.28                    25.78   \n",
       "2  white                  27.09                    23.04   \n",
       "3  pants                  26.59                    24.26   \n",
       "4   midi                  22.54                    25.25   \n",
       "\n",
       "   pct of presence in 2018  \n",
       "0                    47.11  \n",
       "1                    29.89  \n",
       "2                    29.70  \n",
       "3                    28.08  \n",
       "4                    20.79  "
      ]
     },
     "execution_count": 15,
     "metadata": {},
     "output_type": "execute_result"
    }
   ],
   "source": [
    "# Converting lists into pandas data frames and merging them into one\n",
    "\n",
    "df_tags = pd.DataFrame(tag_cnt_split_ranked, columns=['tag','total pct of presence'])\n",
    "df_tags_2017 = pd.DataFrame(tag_cnt_2017_split, columns=['tag','pct of presence in 2017'])\n",
    "df_tags_2018 = pd.DataFrame(tag_cnt_2018_split, columns=['tag','pct of presence in 2018'])\n",
    "\n",
    "tags_merged = pd.merge(pd.merge(df_tags, df_tags_2017, on='tag', how = 'left'), df_tags_2018, on='tag', how = 'left')\n",
    "tags_merged = tags_merged.astype({'total pct of presence':'float','pct of presence in 2017':'float','pct of presence in 2018':'float'})\n",
    "\n",
    "tags_merged.head(5)"
   ]
  },
  {
   "cell_type": "code",
   "execution_count": 16,
   "id": "ad5c9f26",
   "metadata": {},
   "outputs": [],
   "source": [
    "# Saving the results to a .csv file\n",
    "\n",
    "# Saving results from above to a .csv file\n",
    "tags_merged.to_csv('tags.csv', index=False)"
   ]
  },
  {
   "cell_type": "markdown",
   "id": "9f3259a8",
   "metadata": {},
   "source": [
    "### Question 3\n",
    "Calculate the evolution from one season to another and rank them in descending order."
   ]
  },
  {
   "cell_type": "code",
   "execution_count": 17,
   "id": "ad4a88b6",
   "metadata": {},
   "outputs": [
    {
     "name": "stdout",
     "output_type": "stream",
     "text": [
      "The number of looks increased by 55.4 percent in the spring-summer-2018 season compared to the spring-summer-2017 season.\n"
     ]
    }
   ],
   "source": [
    "# Evolution of total number of looks from one season to another\n",
    "\n",
    "looks_season_change = round((looks_season.iloc[1] - looks_season.iloc[0])/looks_season.iloc[0]*100,1)\n",
    "looks_season_change\n",
    "\n",
    "if looks_season_change > 0:\n",
    "    print('The number of looks increased by %s percent in the spring-summer-2018 season compared to the spring-summer-2017 season.' % looks_season_change)\n",
    "elif looks_season_change < 0:\n",
    "    print('The number of looks decreased by %s percent in the spring-summer-2018 season compared to the spring-summer-2017 season.' % looks_season_change)\n",
    "else: print('The number of looks did not change.')"
   ]
  },
  {
   "cell_type": "code",
   "execution_count": 18,
   "id": "367a033b",
   "metadata": {},
   "outputs": [],
   "source": [
    "# Evolution of total number of looks by designer from one season to another\n",
    "\n",
    "num_looks_change = []\n",
    "for i in range(len(looks_season_designer_pivot)):\n",
    "    season2017 = looks_season_designer_pivot.iloc[i].iloc[0]\n",
    "    season2018 = looks_season_designer_pivot.iloc[i].iloc[1]\n",
    "    num_looks_change.append(season2018 - season2017)\n",
    "\n",
    "looks_season_designer_pivot['Number of looks change'] = num_looks_change"
   ]
  },
  {
   "cell_type": "code",
   "execution_count": 19,
   "id": "1ea67cf7",
   "metadata": {},
   "outputs": [
    {
     "data": {
      "text/html": [
       "<div>\n",
       "<style scoped>\n",
       "    .dataframe tbody tr th:only-of-type {\n",
       "        vertical-align: middle;\n",
       "    }\n",
       "\n",
       "    .dataframe tbody tr th {\n",
       "        vertical-align: top;\n",
       "    }\n",
       "\n",
       "    .dataframe thead th {\n",
       "        text-align: right;\n",
       "    }\n",
       "</style>\n",
       "<table border=\"1\" class=\"dataframe\">\n",
       "  <thead>\n",
       "    <tr style=\"text-align: right;\">\n",
       "      <th>season</th>\n",
       "      <th>spring-summer-2017</th>\n",
       "      <th>spring-summer-2018</th>\n",
       "      <th>Number of looks change</th>\n",
       "      <th>Percentage of looks change</th>\n",
       "    </tr>\n",
       "    <tr>\n",
       "      <th>designer</th>\n",
       "      <th></th>\n",
       "      <th></th>\n",
       "      <th></th>\n",
       "      <th></th>\n",
       "    </tr>\n",
       "  </thead>\n",
       "  <tbody>\n",
       "    <tr>\n",
       "      <th>emporio-armani</th>\n",
       "      <td>0.0</td>\n",
       "      <td>113.0</td>\n",
       "      <td>113.0</td>\n",
       "      <td>--</td>\n",
       "    </tr>\n",
       "    <tr>\n",
       "      <th>a-w-a-k-e-mode</th>\n",
       "      <td>0.0</td>\n",
       "      <td>57.0</td>\n",
       "      <td>57.0</td>\n",
       "      <td>--</td>\n",
       "    </tr>\n",
       "    <tr>\n",
       "      <th>margaret-howell</th>\n",
       "      <td>0.0</td>\n",
       "      <td>53.0</td>\n",
       "      <td>53.0</td>\n",
       "      <td>--</td>\n",
       "    </tr>\n",
       "    <tr>\n",
       "      <th>fashion-east</th>\n",
       "      <td>0.0</td>\n",
       "      <td>46.0</td>\n",
       "      <td>46.0</td>\n",
       "      <td>--</td>\n",
       "    </tr>\n",
       "    <tr>\n",
       "      <th>chalayan</th>\n",
       "      <td>0.0</td>\n",
       "      <td>45.0</td>\n",
       "      <td>45.0</td>\n",
       "      <td>--</td>\n",
       "    </tr>\n",
       "  </tbody>\n",
       "</table>\n",
       "</div>"
      ],
      "text/plain": [
       "season           spring-summer-2017  spring-summer-2018  \\\n",
       "designer                                                  \n",
       "emporio-armani                  0.0               113.0   \n",
       "a-w-a-k-e-mode                  0.0                57.0   \n",
       "margaret-howell                 0.0                53.0   \n",
       "fashion-east                    0.0                46.0   \n",
       "chalayan                        0.0                45.0   \n",
       "\n",
       "season           Number of looks change Percentage of looks change  \n",
       "designer                                                            \n",
       "emporio-armani                    113.0                         --  \n",
       "a-w-a-k-e-mode                     57.0                         --  \n",
       "margaret-howell                    53.0                         --  \n",
       "fashion-east                       46.0                         --  \n",
       "chalayan                           45.0                         --  "
      ]
     },
     "execution_count": 19,
     "metadata": {},
     "output_type": "execute_result"
    }
   ],
   "source": [
    "# Evolution of total number of looks by designer from one season to another (percentage change)\n",
    "\n",
    "pct_looks_change = []\n",
    "for i in range(len(looks_season_designer_pivot)):\n",
    "    season2017 = looks_season_designer_pivot.iloc[i].iloc[0]\n",
    "    season2018 = looks_season_designer_pivot.iloc[i].iloc[1]\n",
    "    \n",
    "    if season2017 == 0 or season2018 == 0:\n",
    "        pct_looks_change.append('--')\n",
    "    else:\n",
    "        pct_looks_change.append(round((season2018-season2017)/season2017*100,2))\n",
    "\n",
    "looks_season_designer_pivot['Percentage of looks change'] = pct_looks_change\n",
    "\n",
    "looks_season_designer_pivot_sorted = looks_season_designer_pivot.sort_values(by='Number of looks change',ascending=False)\n",
    "\n",
    "looks_season_designer_pivot_sorted.head(5)"
   ]
  },
  {
   "cell_type": "code",
   "execution_count": 20,
   "id": "d1332643",
   "metadata": {},
   "outputs": [],
   "source": [
    "# Saving as a .csv file\n",
    "\n",
    "looks_season_designer_pivot_sorted.to_csv('num_looks_season_designer_pivot_change.csv', index=True)"
   ]
  },
  {
   "cell_type": "code",
   "execution_count": 21,
   "id": "0958814a",
   "metadata": {},
   "outputs": [
    {
     "data": {
      "text/html": [
       "<div>\n",
       "<style scoped>\n",
       "    .dataframe tbody tr th:only-of-type {\n",
       "        vertical-align: middle;\n",
       "    }\n",
       "\n",
       "    .dataframe tbody tr th {\n",
       "        vertical-align: top;\n",
       "    }\n",
       "\n",
       "    .dataframe thead th {\n",
       "        text-align: right;\n",
       "    }\n",
       "</style>\n",
       "<table border=\"1\" class=\"dataframe\">\n",
       "  <thead>\n",
       "    <tr style=\"text-align: right;\">\n",
       "      <th></th>\n",
       "      <th>tag</th>\n",
       "      <th>total pct of presence</th>\n",
       "      <th>pct of presence in 2017</th>\n",
       "      <th>pct of presence in 2018</th>\n",
       "      <th>Absolute change</th>\n",
       "      <th>Relative change</th>\n",
       "    </tr>\n",
       "  </thead>\n",
       "  <tbody>\n",
       "    <tr>\n",
       "      <th>0</th>\n",
       "      <td>dress</td>\n",
       "      <td>48.82</td>\n",
       "      <td>51.48</td>\n",
       "      <td>47.11</td>\n",
       "      <td>-4.37</td>\n",
       "      <td>-8.49</td>\n",
       "    </tr>\n",
       "    <tr>\n",
       "      <th>1</th>\n",
       "      <td>black</td>\n",
       "      <td>28.28</td>\n",
       "      <td>25.78</td>\n",
       "      <td>29.89</td>\n",
       "      <td>4.11</td>\n",
       "      <td>15.94</td>\n",
       "    </tr>\n",
       "    <tr>\n",
       "      <th>2</th>\n",
       "      <td>white</td>\n",
       "      <td>27.09</td>\n",
       "      <td>23.04</td>\n",
       "      <td>29.70</td>\n",
       "      <td>6.66</td>\n",
       "      <td>28.91</td>\n",
       "    </tr>\n",
       "    <tr>\n",
       "      <th>3</th>\n",
       "      <td>pants</td>\n",
       "      <td>26.59</td>\n",
       "      <td>24.26</td>\n",
       "      <td>28.08</td>\n",
       "      <td>3.82</td>\n",
       "      <td>15.75</td>\n",
       "    </tr>\n",
       "    <tr>\n",
       "      <th>4</th>\n",
       "      <td>midi</td>\n",
       "      <td>22.54</td>\n",
       "      <td>25.25</td>\n",
       "      <td>20.79</td>\n",
       "      <td>-4.46</td>\n",
       "      <td>-17.66</td>\n",
       "    </tr>\n",
       "    <tr>\n",
       "      <th>5</th>\n",
       "      <td>shirt</td>\n",
       "      <td>20.81</td>\n",
       "      <td>19.24</td>\n",
       "      <td>21.82</td>\n",
       "      <td>2.58</td>\n",
       "      <td>13.41</td>\n",
       "    </tr>\n",
       "    <tr>\n",
       "      <th>6</th>\n",
       "      <td>ski</td>\n",
       "      <td>20.42</td>\n",
       "      <td>20.68</td>\n",
       "      <td>20.25</td>\n",
       "      <td>-0.43</td>\n",
       "      <td>-2.08</td>\n",
       "    </tr>\n",
       "    <tr>\n",
       "      <th>7</th>\n",
       "      <td>skirt</td>\n",
       "      <td>20.04</td>\n",
       "      <td>20.46</td>\n",
       "      <td>19.77</td>\n",
       "      <td>-0.69</td>\n",
       "      <td>-3.37</td>\n",
       "    </tr>\n",
       "    <tr>\n",
       "      <th>8</th>\n",
       "      <td>pattern</td>\n",
       "      <td>19.50</td>\n",
       "      <td>9.43</td>\n",
       "      <td>25.98</td>\n",
       "      <td>16.55</td>\n",
       "      <td>175.50</td>\n",
       "    </tr>\n",
       "    <tr>\n",
       "      <th>9</th>\n",
       "      <td>print</td>\n",
       "      <td>18.96</td>\n",
       "      <td>15.97</td>\n",
       "      <td>20.89</td>\n",
       "      <td>4.92</td>\n",
       "      <td>30.81</td>\n",
       "    </tr>\n",
       "  </tbody>\n",
       "</table>\n",
       "</div>"
      ],
      "text/plain": [
       "       tag  total pct of presence  pct of presence in 2017  \\\n",
       "0    dress                  48.82                    51.48   \n",
       "1    black                  28.28                    25.78   \n",
       "2    white                  27.09                    23.04   \n",
       "3    pants                  26.59                    24.26   \n",
       "4     midi                  22.54                    25.25   \n",
       "5    shirt                  20.81                    19.24   \n",
       "6      ski                  20.42                    20.68   \n",
       "7    skirt                  20.04                    20.46   \n",
       "8  pattern                  19.50                     9.43   \n",
       "9    print                  18.96                    15.97   \n",
       "\n",
       "   pct of presence in 2018  Absolute change  Relative change  \n",
       "0                    47.11            -4.37            -8.49  \n",
       "1                    29.89             4.11            15.94  \n",
       "2                    29.70             6.66            28.91  \n",
       "3                    28.08             3.82            15.75  \n",
       "4                    20.79            -4.46           -17.66  \n",
       "5                    21.82             2.58            13.41  \n",
       "6                    20.25            -0.43            -2.08  \n",
       "7                    19.77            -0.69            -3.37  \n",
       "8                    25.98            16.55           175.50  \n",
       "9                    20.89             4.92            30.81  "
      ]
     },
     "execution_count": 21,
     "metadata": {},
     "output_type": "execute_result"
    }
   ],
   "source": [
    "# Calculating a deference from one season to another\n",
    "\n",
    "tags_merged['Absolute change'] = round(tags_merged['pct of presence in 2018'] - tags_merged['pct of presence in 2017'],2)\n",
    "tags_merged['Relative change'] = round((tags_merged['pct of presence in 2018'] - tags_merged['pct of presence in 2017'])/tags_merged['pct of presence in 2017']*100,2)\n",
    "tags_merged.head(10)"
   ]
  },
  {
   "cell_type": "code",
   "execution_count": 22,
   "id": "1aedd15d",
   "metadata": {},
   "outputs": [],
   "source": [
    "# Saving results from above to a .csv file\n",
    "tags_merged.to_csv('tags_change.csv', index=False)"
   ]
  },
  {
   "cell_type": "markdown",
   "id": "267fe865",
   "metadata": {},
   "source": [
    "### Question 4\n",
    "Export the results of the first 3 questions to .csv files and create a Tableau dashboard to visually represent the first three questions. Add 2 selectable filters to the dashboard: seasons and keywords. To use Tableau Public, you need to create an account here: https://www.tableau.com/fr-fr/products/public"
   ]
  },
  {
   "cell_type": "code",
   "execution_count": 23,
   "id": "ffeb4ab2",
   "metadata": {},
   "outputs": [],
   "source": [
    "# The .csv files files are exported above."
   ]
  },
  {
   "cell_type": "markdown",
   "id": "d95ff432",
   "metadata": {},
   "source": [
    "### Some insights\n",
    "\n",
    "*  Dataset contains information on womenswear for two seasons (spring-summer 2017 and spring-summer 2018).\n",
    "*  The number of looks in 2018 increased by about 55% compared to 2017.\n",
    "*  Looks from a total of 59 designers are presented in the dataset. Among them, 24 designers are featured only at one of the seasons.\n",
    "*  The dataset has almost 1000 unique tags. The most popular tags are: 'dress', 'black', 'white'.\n",
    "*  Tags with the largest absolute increase of presence are 'pattern', 'long-sleeves', and 'head-accessory'. Tags with the largest absolute decrease of presence are 'embroidery', 'floral', and 'midi-dress'.\n",
    "*  Tags with one the most significant relative increase are 'texture', 'drawstring', 'button'. Tags with one of the most significant relative decrease are 'silk', 'folk', 'folkloric'."
   ]
  }
 ],
 "metadata": {
  "kernelspec": {
   "display_name": "Python 3 (ipykernel)",
   "language": "python",
   "name": "python3"
  },
  "language_info": {
   "codemirror_mode": {
    "name": "ipython",
    "version": 3
   },
   "file_extension": ".py",
   "mimetype": "text/x-python",
   "name": "python",
   "nbconvert_exporter": "python",
   "pygments_lexer": "ipython3",
   "version": "3.10.5"
  }
 },
 "nbformat": 4,
 "nbformat_minor": 5
}
